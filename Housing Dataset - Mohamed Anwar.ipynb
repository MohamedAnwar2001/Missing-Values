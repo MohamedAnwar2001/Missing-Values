{
 "cells": [
  {
   "cell_type": "markdown",
   "id": "80c87d74",
   "metadata": {},
   "source": [
    "# <font color='blue'> Housing Dataset </font>\n",
    "###  The objective of this notebook is to check and deal with missing values of this Housing dataset and trying different solutions and techniques .\n",
    "\n",
    "\n",
    "####  presented by : \n",
    "#  <font color='red'> Mohamed Anwar </font> \n"
   ]
  },
  {
   "cell_type": "code",
   "execution_count": 1,
   "id": "51b895f4",
   "metadata": {},
   "outputs": [],
   "source": [
    "import pandas as pd\n",
    "import numpy as np\n",
    "import seaborn as sns\n",
    "import matplotlib.pyplot as plt \n",
    "import os\n",
    "import missingno as msno\n",
    "os.chdir('C:\\\\Users\\\\Anwar\\\\Desktop') \n"
   ]
  },
  {
   "cell_type": "code",
   "execution_count": 2,
   "id": "607bc291",
   "metadata": {},
   "outputs": [
    {
     "data": {
      "text/html": [
       "<div>\n",
       "<style scoped>\n",
       "    .dataframe tbody tr th:only-of-type {\n",
       "        vertical-align: middle;\n",
       "    }\n",
       "\n",
       "    .dataframe tbody tr th {\n",
       "        vertical-align: top;\n",
       "    }\n",
       "\n",
       "    .dataframe thead th {\n",
       "        text-align: right;\n",
       "    }\n",
       "</style>\n",
       "<table border=\"1\" class=\"dataframe\">\n",
       "  <thead>\n",
       "    <tr style=\"text-align: right;\">\n",
       "      <th></th>\n",
       "      <th>longitude</th>\n",
       "      <th>latitude</th>\n",
       "      <th>housing_median_age</th>\n",
       "      <th>total_rooms</th>\n",
       "      <th>total_bedrooms</th>\n",
       "      <th>population</th>\n",
       "      <th>households</th>\n",
       "      <th>median_income</th>\n",
       "      <th>median_house_value</th>\n",
       "      <th>ocean_proximity</th>\n",
       "      <th>gender</th>\n",
       "    </tr>\n",
       "  </thead>\n",
       "  <tbody>\n",
       "    <tr>\n",
       "      <th>0</th>\n",
       "      <td>-122.23</td>\n",
       "      <td>37.88</td>\n",
       "      <td>41.0</td>\n",
       "      <td>880</td>\n",
       "      <td>129.0</td>\n",
       "      <td>322.0</td>\n",
       "      <td>126</td>\n",
       "      <td>8.3252</td>\n",
       "      <td>452600</td>\n",
       "      <td>NEAR BAY</td>\n",
       "      <td>male</td>\n",
       "    </tr>\n",
       "    <tr>\n",
       "      <th>1</th>\n",
       "      <td>-122.22</td>\n",
       "      <td>37.86</td>\n",
       "      <td>21.0</td>\n",
       "      <td>7099</td>\n",
       "      <td>1106.0</td>\n",
       "      <td>2401.0</td>\n",
       "      <td>1138</td>\n",
       "      <td>8.3014</td>\n",
       "      <td>358500</td>\n",
       "      <td>NEAR BAY</td>\n",
       "      <td>female</td>\n",
       "    </tr>\n",
       "    <tr>\n",
       "      <th>2</th>\n",
       "      <td>-122.24</td>\n",
       "      <td>37.85</td>\n",
       "      <td>52.0</td>\n",
       "      <td>1467</td>\n",
       "      <td>190.0</td>\n",
       "      <td>496.0</td>\n",
       "      <td>177</td>\n",
       "      <td>7.2574</td>\n",
       "      <td>352100</td>\n",
       "      <td>NEAR BAY</td>\n",
       "      <td>male</td>\n",
       "    </tr>\n",
       "    <tr>\n",
       "      <th>3</th>\n",
       "      <td>-122.25</td>\n",
       "      <td>37.85</td>\n",
       "      <td>52.0</td>\n",
       "      <td>1274</td>\n",
       "      <td>235.0</td>\n",
       "      <td>558.0</td>\n",
       "      <td>219</td>\n",
       "      <td>5.6431</td>\n",
       "      <td>341300</td>\n",
       "      <td>NEAR BAY</td>\n",
       "      <td>female</td>\n",
       "    </tr>\n",
       "    <tr>\n",
       "      <th>4</th>\n",
       "      <td>-122.25</td>\n",
       "      <td>37.85</td>\n",
       "      <td>NaN</td>\n",
       "      <td>1627</td>\n",
       "      <td>280.0</td>\n",
       "      <td>NaN</td>\n",
       "      <td>259</td>\n",
       "      <td>3.8462</td>\n",
       "      <td>342200</td>\n",
       "      <td>NEAR BAY</td>\n",
       "      <td>male</td>\n",
       "    </tr>\n",
       "    <tr>\n",
       "      <th>...</th>\n",
       "      <td>...</td>\n",
       "      <td>...</td>\n",
       "      <td>...</td>\n",
       "      <td>...</td>\n",
       "      <td>...</td>\n",
       "      <td>...</td>\n",
       "      <td>...</td>\n",
       "      <td>...</td>\n",
       "      <td>...</td>\n",
       "      <td>...</td>\n",
       "      <td>...</td>\n",
       "    </tr>\n",
       "    <tr>\n",
       "      <th>20635</th>\n",
       "      <td>-121.09</td>\n",
       "      <td>39.48</td>\n",
       "      <td>25.0</td>\n",
       "      <td>1665</td>\n",
       "      <td>374.0</td>\n",
       "      <td>845.0</td>\n",
       "      <td>330</td>\n",
       "      <td>1.5603</td>\n",
       "      <td>78100</td>\n",
       "      <td>INLAND</td>\n",
       "      <td>female</td>\n",
       "    </tr>\n",
       "    <tr>\n",
       "      <th>20636</th>\n",
       "      <td>-121.21</td>\n",
       "      <td>39.49</td>\n",
       "      <td>18.0</td>\n",
       "      <td>697</td>\n",
       "      <td>150.0</td>\n",
       "      <td>356.0</td>\n",
       "      <td>114</td>\n",
       "      <td>2.5568</td>\n",
       "      <td>77100</td>\n",
       "      <td>INLAND</td>\n",
       "      <td>male</td>\n",
       "    </tr>\n",
       "    <tr>\n",
       "      <th>20637</th>\n",
       "      <td>-121.22</td>\n",
       "      <td>39.43</td>\n",
       "      <td>17.0</td>\n",
       "      <td>2254</td>\n",
       "      <td>485.0</td>\n",
       "      <td>1007.0</td>\n",
       "      <td>433</td>\n",
       "      <td>1.7000</td>\n",
       "      <td>92300</td>\n",
       "      <td>INLAND</td>\n",
       "      <td>female</td>\n",
       "    </tr>\n",
       "    <tr>\n",
       "      <th>20638</th>\n",
       "      <td>-121.32</td>\n",
       "      <td>39.43</td>\n",
       "      <td>18.0</td>\n",
       "      <td>1860</td>\n",
       "      <td>409.0</td>\n",
       "      <td>741.0</td>\n",
       "      <td>349</td>\n",
       "      <td>1.8672</td>\n",
       "      <td>84700</td>\n",
       "      <td>INLAND</td>\n",
       "      <td>male</td>\n",
       "    </tr>\n",
       "    <tr>\n",
       "      <th>20639</th>\n",
       "      <td>-121.24</td>\n",
       "      <td>39.37</td>\n",
       "      <td>16.0</td>\n",
       "      <td>2785</td>\n",
       "      <td>616.0</td>\n",
       "      <td>1387.0</td>\n",
       "      <td>530</td>\n",
       "      <td>2.3886</td>\n",
       "      <td>89400</td>\n",
       "      <td>INLAND</td>\n",
       "      <td>female</td>\n",
       "    </tr>\n",
       "  </tbody>\n",
       "</table>\n",
       "<p>20640 rows × 11 columns</p>\n",
       "</div>"
      ],
      "text/plain": [
       "       longitude  latitude  housing_median_age  total_rooms  total_bedrooms  \\\n",
       "0        -122.23     37.88                41.0          880           129.0   \n",
       "1        -122.22     37.86                21.0         7099          1106.0   \n",
       "2        -122.24     37.85                52.0         1467           190.0   \n",
       "3        -122.25     37.85                52.0         1274           235.0   \n",
       "4        -122.25     37.85                 NaN         1627           280.0   \n",
       "...          ...       ...                 ...          ...             ...   \n",
       "20635    -121.09     39.48                25.0         1665           374.0   \n",
       "20636    -121.21     39.49                18.0          697           150.0   \n",
       "20637    -121.22     39.43                17.0         2254           485.0   \n",
       "20638    -121.32     39.43                18.0         1860           409.0   \n",
       "20639    -121.24     39.37                16.0         2785           616.0   \n",
       "\n",
       "       population households  median_income  median_house_value  \\\n",
       "0           322.0        126         8.3252              452600   \n",
       "1          2401.0       1138         8.3014              358500   \n",
       "2           496.0        177         7.2574              352100   \n",
       "3           558.0        219         5.6431              341300   \n",
       "4             NaN        259         3.8462              342200   \n",
       "...           ...        ...            ...                 ...   \n",
       "20635       845.0        330         1.5603               78100   \n",
       "20636       356.0        114         2.5568               77100   \n",
       "20637      1007.0        433         1.7000               92300   \n",
       "20638       741.0        349         1.8672               84700   \n",
       "20639      1387.0        530         2.3886               89400   \n",
       "\n",
       "      ocean_proximity  gender  \n",
       "0            NEAR BAY    male  \n",
       "1            NEAR BAY  female  \n",
       "2            NEAR BAY    male  \n",
       "3            NEAR BAY  female  \n",
       "4            NEAR BAY    male  \n",
       "...               ...     ...  \n",
       "20635          INLAND  female  \n",
       "20636          INLAND    male  \n",
       "20637          INLAND  female  \n",
       "20638          INLAND    male  \n",
       "20639          INLAND  female  \n",
       "\n",
       "[20640 rows x 11 columns]"
      ]
     },
     "execution_count": 2,
     "metadata": {},
     "output_type": "execute_result"
    }
   ],
   "source": [
    "df = pd.read_csv(\"housing.csv\" , sep = \",\" , encoding = 'utf-8')\n",
    "df"
   ]
  },
  {
   "cell_type": "code",
   "execution_count": 3,
   "id": "65b8ee2b",
   "metadata": {},
   "outputs": [
    {
     "data": {
      "text/html": [
       "<div>\n",
       "<style scoped>\n",
       "    .dataframe tbody tr th:only-of-type {\n",
       "        vertical-align: middle;\n",
       "    }\n",
       "\n",
       "    .dataframe tbody tr th {\n",
       "        vertical-align: top;\n",
       "    }\n",
       "\n",
       "    .dataframe thead th {\n",
       "        text-align: right;\n",
       "    }\n",
       "</style>\n",
       "<table border=\"1\" class=\"dataframe\">\n",
       "  <thead>\n",
       "    <tr style=\"text-align: right;\">\n",
       "      <th></th>\n",
       "      <th>longitude</th>\n",
       "      <th>latitude</th>\n",
       "      <th>housing_median_age</th>\n",
       "      <th>total_rooms</th>\n",
       "      <th>total_bedrooms</th>\n",
       "      <th>population</th>\n",
       "      <th>households</th>\n",
       "      <th>median_income</th>\n",
       "      <th>median_house_value</th>\n",
       "      <th>ocean_proximity</th>\n",
       "      <th>gender</th>\n",
       "    </tr>\n",
       "  </thead>\n",
       "  <tbody>\n",
       "    <tr>\n",
       "      <th>0</th>\n",
       "      <td>-122.23</td>\n",
       "      <td>37.88</td>\n",
       "      <td>41.0</td>\n",
       "      <td>880</td>\n",
       "      <td>129.0</td>\n",
       "      <td>322.0</td>\n",
       "      <td>126</td>\n",
       "      <td>8.3252</td>\n",
       "      <td>452600</td>\n",
       "      <td>NEAR BAY</td>\n",
       "      <td>male</td>\n",
       "    </tr>\n",
       "    <tr>\n",
       "      <th>1</th>\n",
       "      <td>-122.22</td>\n",
       "      <td>37.86</td>\n",
       "      <td>21.0</td>\n",
       "      <td>7099</td>\n",
       "      <td>1106.0</td>\n",
       "      <td>2401.0</td>\n",
       "      <td>1138</td>\n",
       "      <td>8.3014</td>\n",
       "      <td>358500</td>\n",
       "      <td>NEAR BAY</td>\n",
       "      <td>female</td>\n",
       "    </tr>\n",
       "    <tr>\n",
       "      <th>2</th>\n",
       "      <td>-122.24</td>\n",
       "      <td>37.85</td>\n",
       "      <td>52.0</td>\n",
       "      <td>1467</td>\n",
       "      <td>190.0</td>\n",
       "      <td>496.0</td>\n",
       "      <td>177</td>\n",
       "      <td>7.2574</td>\n",
       "      <td>352100</td>\n",
       "      <td>NEAR BAY</td>\n",
       "      <td>male</td>\n",
       "    </tr>\n",
       "    <tr>\n",
       "      <th>3</th>\n",
       "      <td>-122.25</td>\n",
       "      <td>37.85</td>\n",
       "      <td>52.0</td>\n",
       "      <td>1274</td>\n",
       "      <td>235.0</td>\n",
       "      <td>558.0</td>\n",
       "      <td>219</td>\n",
       "      <td>5.6431</td>\n",
       "      <td>341300</td>\n",
       "      <td>NEAR BAY</td>\n",
       "      <td>female</td>\n",
       "    </tr>\n",
       "    <tr>\n",
       "      <th>4</th>\n",
       "      <td>-122.25</td>\n",
       "      <td>37.85</td>\n",
       "      <td>NaN</td>\n",
       "      <td>1627</td>\n",
       "      <td>280.0</td>\n",
       "      <td>NaN</td>\n",
       "      <td>259</td>\n",
       "      <td>3.8462</td>\n",
       "      <td>342200</td>\n",
       "      <td>NEAR BAY</td>\n",
       "      <td>male</td>\n",
       "    </tr>\n",
       "    <tr>\n",
       "      <th>5</th>\n",
       "      <td>-122.25</td>\n",
       "      <td>37.85</td>\n",
       "      <td>NaN</td>\n",
       "      <td>919</td>\n",
       "      <td>213.0</td>\n",
       "      <td>NaN</td>\n",
       "      <td>193</td>\n",
       "      <td>4.0368</td>\n",
       "      <td>269700</td>\n",
       "      <td>NEAR BAY</td>\n",
       "      <td>female</td>\n",
       "    </tr>\n",
       "    <tr>\n",
       "      <th>6</th>\n",
       "      <td>-122.25</td>\n",
       "      <td>37.84</td>\n",
       "      <td>NaN</td>\n",
       "      <td>2535</td>\n",
       "      <td>NaN</td>\n",
       "      <td>NaN</td>\n",
       "      <td>514</td>\n",
       "      <td>3.6591</td>\n",
       "      <td>299200</td>\n",
       "      <td>NEAR BAY</td>\n",
       "      <td>male</td>\n",
       "    </tr>\n",
       "    <tr>\n",
       "      <th>7</th>\n",
       "      <td>-122.25</td>\n",
       "      <td>37.84</td>\n",
       "      <td>NaN</td>\n",
       "      <td>3104</td>\n",
       "      <td>NaN</td>\n",
       "      <td>NaN</td>\n",
       "      <td>NaN</td>\n",
       "      <td>3.1200</td>\n",
       "      <td>241400</td>\n",
       "      <td>NEAR BAY</td>\n",
       "      <td>female</td>\n",
       "    </tr>\n",
       "    <tr>\n",
       "      <th>8</th>\n",
       "      <td>-122.26</td>\n",
       "      <td>37.84</td>\n",
       "      <td>42.0</td>\n",
       "      <td>2555</td>\n",
       "      <td>NaN</td>\n",
       "      <td>NaN</td>\n",
       "      <td>NaN</td>\n",
       "      <td>2.0804</td>\n",
       "      <td>226700</td>\n",
       "      <td>NEAR BAY</td>\n",
       "      <td>male</td>\n",
       "    </tr>\n",
       "    <tr>\n",
       "      <th>9</th>\n",
       "      <td>-122.25</td>\n",
       "      <td>37.84</td>\n",
       "      <td>52.0</td>\n",
       "      <td>3549</td>\n",
       "      <td>NaN</td>\n",
       "      <td>NaN</td>\n",
       "      <td>NaN</td>\n",
       "      <td>3.6912</td>\n",
       "      <td>261100</td>\n",
       "      <td>NEAR BAY</td>\n",
       "      <td>female</td>\n",
       "    </tr>\n",
       "  </tbody>\n",
       "</table>\n",
       "</div>"
      ],
      "text/plain": [
       "   longitude  latitude  housing_median_age  total_rooms  total_bedrooms  \\\n",
       "0    -122.23     37.88                41.0          880           129.0   \n",
       "1    -122.22     37.86                21.0         7099          1106.0   \n",
       "2    -122.24     37.85                52.0         1467           190.0   \n",
       "3    -122.25     37.85                52.0         1274           235.0   \n",
       "4    -122.25     37.85                 NaN         1627           280.0   \n",
       "5    -122.25     37.85                 NaN          919           213.0   \n",
       "6    -122.25     37.84                 NaN         2535             NaN   \n",
       "7    -122.25     37.84                 NaN         3104             NaN   \n",
       "8    -122.26     37.84                42.0         2555             NaN   \n",
       "9    -122.25     37.84                52.0         3549             NaN   \n",
       "\n",
       "   population households  median_income  median_house_value ocean_proximity  \\\n",
       "0       322.0        126         8.3252              452600        NEAR BAY   \n",
       "1      2401.0       1138         8.3014              358500        NEAR BAY   \n",
       "2       496.0        177         7.2574              352100        NEAR BAY   \n",
       "3       558.0        219         5.6431              341300        NEAR BAY   \n",
       "4         NaN        259         3.8462              342200        NEAR BAY   \n",
       "5         NaN        193         4.0368              269700        NEAR BAY   \n",
       "6         NaN        514         3.6591              299200        NEAR BAY   \n",
       "7         NaN        NaN         3.1200              241400        NEAR BAY   \n",
       "8         NaN        NaN         2.0804              226700        NEAR BAY   \n",
       "9         NaN        NaN         3.6912              261100        NEAR BAY   \n",
       "\n",
       "   gender  \n",
       "0    male  \n",
       "1  female  \n",
       "2    male  \n",
       "3  female  \n",
       "4    male  \n",
       "5  female  \n",
       "6    male  \n",
       "7  female  \n",
       "8    male  \n",
       "9  female  "
      ]
     },
     "execution_count": 3,
     "metadata": {},
     "output_type": "execute_result"
    }
   ],
   "source": [
    "df.head(10)"
   ]
  },
  {
   "cell_type": "code",
   "execution_count": 4,
   "id": "538f37db",
   "metadata": {},
   "outputs": [
    {
     "name": "stdout",
     "output_type": "stream",
     "text": [
      "<class 'pandas.core.frame.DataFrame'>\n",
      "RangeIndex: 20640 entries, 0 to 20639\n",
      "Data columns (total 11 columns):\n",
      " #   Column              Non-Null Count  Dtype  \n",
      "---  ------              --------------  -----  \n",
      " 0   longitude           20640 non-null  float64\n",
      " 1   latitude            20640 non-null  float64\n",
      " 2   housing_median_age  20382 non-null  float64\n",
      " 3   total_rooms         20640 non-null  int64  \n",
      " 4   total_bedrooms      15758 non-null  float64\n",
      " 5   population          20596 non-null  float64\n",
      " 6   households          19335 non-null  object \n",
      " 7   median_income       17873 non-null  float64\n",
      " 8   median_house_value  20640 non-null  int64  \n",
      " 9   ocean_proximity     20640 non-null  object \n",
      " 10  gender              16620 non-null  object \n",
      "dtypes: float64(6), int64(2), object(3)\n",
      "memory usage: 1.7+ MB\n"
     ]
    }
   ],
   "source": [
    "df.info()"
   ]
  },
  {
   "cell_type": "markdown",
   "id": "c5c576c4",
   "metadata": {},
   "source": [
    "## Checking if we have null values"
   ]
  },
  {
   "cell_type": "code",
   "execution_count": 5,
   "id": "a5f82b6c",
   "metadata": {},
   "outputs": [
    {
     "data": {
      "text/plain": [
       "longitude                0\n",
       "latitude                 0\n",
       "housing_median_age     258\n",
       "total_rooms              0\n",
       "total_bedrooms        4882\n",
       "population              44\n",
       "households            1305\n",
       "median_income         2767\n",
       "median_house_value       0\n",
       "ocean_proximity          0\n",
       "gender                4020\n",
       "dtype: int64"
      ]
     },
     "execution_count": 5,
     "metadata": {},
     "output_type": "execute_result"
    }
   ],
   "source": [
    "df.isnull().sum()"
   ]
  },
  {
   "cell_type": "code",
   "execution_count": 6,
   "id": "3dbf44e4",
   "metadata": {},
   "outputs": [
    {
     "data": {
      "text/plain": [
       "longitude              0.000000\n",
       "latitude               0.000000\n",
       "housing_median_age     1.250000\n",
       "total_rooms            0.000000\n",
       "total_bedrooms        23.653101\n",
       "population             0.213178\n",
       "households             6.322674\n",
       "median_income         13.406008\n",
       "median_house_value     0.000000\n",
       "ocean_proximity        0.000000\n",
       "gender                19.476744\n",
       "dtype: float64"
      ]
     },
     "execution_count": 6,
     "metadata": {},
     "output_type": "execute_result"
    }
   ],
   "source": [
    "df.isnull().sum()/df.shape[0]*100"
   ]
  },
  {
   "cell_type": "markdown",
   "id": "e0876eb2",
   "metadata": {},
   "source": [
    "### Population and housing_median_income columns has very low percentage of null values , hence , they can be dropped "
   ]
  },
  {
   "cell_type": "markdown",
   "id": "ddea14ab",
   "metadata": {},
   "source": [
    "#### there is 258 null values in housing_median_age column , 4882 in total_bedrooms , 44 in population  , 1305 in households ,2767 in median income and 4020 in gender column ."
   ]
  },
  {
   "cell_type": "code",
   "execution_count": 7,
   "id": "65c7cf92",
   "metadata": {},
   "outputs": [
    {
     "data": {
      "text/html": [
       "<div>\n",
       "<style scoped>\n",
       "    .dataframe tbody tr th:only-of-type {\n",
       "        vertical-align: middle;\n",
       "    }\n",
       "\n",
       "    .dataframe tbody tr th {\n",
       "        vertical-align: top;\n",
       "    }\n",
       "\n",
       "    .dataframe thead th {\n",
       "        text-align: right;\n",
       "    }\n",
       "</style>\n",
       "<table border=\"1\" class=\"dataframe\">\n",
       "  <thead>\n",
       "    <tr style=\"text-align: right;\">\n",
       "      <th></th>\n",
       "      <th>longitude</th>\n",
       "      <th>latitude</th>\n",
       "      <th>housing_median_age</th>\n",
       "      <th>total_rooms</th>\n",
       "      <th>total_bedrooms</th>\n",
       "      <th>population</th>\n",
       "      <th>households</th>\n",
       "      <th>median_income</th>\n",
       "      <th>median_house_value</th>\n",
       "      <th>ocean_proximity</th>\n",
       "      <th>gender</th>\n",
       "    </tr>\n",
       "  </thead>\n",
       "  <tbody>\n",
       "    <tr>\n",
       "      <th>13070</th>\n",
       "      <td>-121.31</td>\n",
       "      <td>38.58</td>\n",
       "      <td>10.0</td>\n",
       "      <td>2421</td>\n",
       "      <td>580.0</td>\n",
       "      <td>962.0</td>\n",
       "      <td>497</td>\n",
       "      <td>NaN</td>\n",
       "      <td>112500</td>\n",
       "      <td>INLAND</td>\n",
       "      <td>male</td>\n",
       "    </tr>\n",
       "    <tr>\n",
       "      <th>15649</th>\n",
       "      <td>-122.41</td>\n",
       "      <td>37.79</td>\n",
       "      <td>52.0</td>\n",
       "      <td>2161</td>\n",
       "      <td>544.0</td>\n",
       "      <td>904.0</td>\n",
       "      <td>431</td>\n",
       "      <td>3.5066</td>\n",
       "      <td>350000</td>\n",
       "      <td>NEAR BAY</td>\n",
       "      <td>female</td>\n",
       "    </tr>\n",
       "    <tr>\n",
       "      <th>17805</th>\n",
       "      <td>-121.87</td>\n",
       "      <td>37.38</td>\n",
       "      <td>16.0</td>\n",
       "      <td>1050</td>\n",
       "      <td>245.0</td>\n",
       "      <td>722.0</td>\n",
       "      <td>228</td>\n",
       "      <td>4.5187</td>\n",
       "      <td>163500</td>\n",
       "      <td>&lt;1H OCEAN</td>\n",
       "      <td>female</td>\n",
       "    </tr>\n",
       "    <tr>\n",
       "      <th>12630</th>\n",
       "      <td>-121.50</td>\n",
       "      <td>38.49</td>\n",
       "      <td>29.0</td>\n",
       "      <td>3606</td>\n",
       "      <td>690.0</td>\n",
       "      <td>2317.0</td>\n",
       "      <td>696</td>\n",
       "      <td>NaN</td>\n",
       "      <td>78200</td>\n",
       "      <td>INLAND</td>\n",
       "      <td>male</td>\n",
       "    </tr>\n",
       "    <tr>\n",
       "      <th>5100</th>\n",
       "      <td>-118.31</td>\n",
       "      <td>33.97</td>\n",
       "      <td>52.0</td>\n",
       "      <td>1629</td>\n",
       "      <td>277.0</td>\n",
       "      <td>819.0</td>\n",
       "      <td>288</td>\n",
       "      <td>3.7250</td>\n",
       "      <td>142600</td>\n",
       "      <td>&lt;1H OCEAN</td>\n",
       "      <td>male</td>\n",
       "    </tr>\n",
       "    <tr>\n",
       "      <th>16010</th>\n",
       "      <td>-122.46</td>\n",
       "      <td>37.74</td>\n",
       "      <td>52.0</td>\n",
       "      <td>2180</td>\n",
       "      <td>326.0</td>\n",
       "      <td>856.0</td>\n",
       "      <td>326</td>\n",
       "      <td>5.3961</td>\n",
       "      <td>416900</td>\n",
       "      <td>NEAR BAY</td>\n",
       "      <td>female</td>\n",
       "    </tr>\n",
       "    <tr>\n",
       "      <th>17578</th>\n",
       "      <td>-121.94</td>\n",
       "      <td>37.30</td>\n",
       "      <td>26.0</td>\n",
       "      <td>4348</td>\n",
       "      <td>814.0</td>\n",
       "      <td>2347.0</td>\n",
       "      <td>810</td>\n",
       "      <td>4.7275</td>\n",
       "      <td>293000</td>\n",
       "      <td>&lt;1H OCEAN</td>\n",
       "      <td>male</td>\n",
       "    </tr>\n",
       "    <tr>\n",
       "      <th>3146</th>\n",
       "      <td>-118.51</td>\n",
       "      <td>35.16</td>\n",
       "      <td>7.0</td>\n",
       "      <td>4371</td>\n",
       "      <td>727.0</td>\n",
       "      <td>1932.0</td>\n",
       "      <td>654</td>\n",
       "      <td>4.6250</td>\n",
       "      <td>136800</td>\n",
       "      <td>INLAND</td>\n",
       "      <td>male</td>\n",
       "    </tr>\n",
       "    <tr>\n",
       "      <th>17516</th>\n",
       "      <td>-121.93</td>\n",
       "      <td>37.33</td>\n",
       "      <td>44.0</td>\n",
       "      <td>2142</td>\n",
       "      <td>358.0</td>\n",
       "      <td>846.0</td>\n",
       "      <td>375</td>\n",
       "      <td>5.4273</td>\n",
       "      <td>421000</td>\n",
       "      <td>&lt;1H OCEAN</td>\n",
       "      <td>male</td>\n",
       "    </tr>\n",
       "    <tr>\n",
       "      <th>4012</th>\n",
       "      <td>-118.60</td>\n",
       "      <td>34.16</td>\n",
       "      <td>37.0</td>\n",
       "      <td>3441</td>\n",
       "      <td>584.0</td>\n",
       "      <td>1283.0</td>\n",
       "      <td>544</td>\n",
       "      <td>4.1656</td>\n",
       "      <td>313100</td>\n",
       "      <td>&lt;1H OCEAN</td>\n",
       "      <td>male</td>\n",
       "    </tr>\n",
       "    <tr>\n",
       "      <th>16295</th>\n",
       "      <td>-121.23</td>\n",
       "      <td>37.95</td>\n",
       "      <td>36.0</td>\n",
       "      <td>811</td>\n",
       "      <td>168.0</td>\n",
       "      <td>514.0</td>\n",
       "      <td>152</td>\n",
       "      <td>2.6250</td>\n",
       "      <td>89200</td>\n",
       "      <td>INLAND</td>\n",
       "      <td>female</td>\n",
       "    </tr>\n",
       "    <tr>\n",
       "      <th>18791</th>\n",
       "      <td>-122.56</td>\n",
       "      <td>40.75</td>\n",
       "      <td>20.0</td>\n",
       "      <td>1182</td>\n",
       "      <td>250.0</td>\n",
       "      <td>512.0</td>\n",
       "      <td>210</td>\n",
       "      <td>1.7935</td>\n",
       "      <td>74500</td>\n",
       "      <td>INLAND</td>\n",
       "      <td>female</td>\n",
       "    </tr>\n",
       "    <tr>\n",
       "      <th>5685</th>\n",
       "      <td>-118.23</td>\n",
       "      <td>34.24</td>\n",
       "      <td>31.0</td>\n",
       "      <td>3857</td>\n",
       "      <td>607.0</td>\n",
       "      <td>1695.0</td>\n",
       "      <td>572</td>\n",
       "      <td>7.6420</td>\n",
       "      <td>396400</td>\n",
       "      <td>&lt;1H OCEAN</td>\n",
       "      <td>female</td>\n",
       "    </tr>\n",
       "    <tr>\n",
       "      <th>18691</th>\n",
       "      <td>-121.77</td>\n",
       "      <td>36.96</td>\n",
       "      <td>20.0</td>\n",
       "      <td>4228</td>\n",
       "      <td>816.0</td>\n",
       "      <td>2389.0</td>\n",
       "      <td>844</td>\n",
       "      <td>3.5250</td>\n",
       "      <td>229100</td>\n",
       "      <td>&lt;1H OCEAN</td>\n",
       "      <td>female</td>\n",
       "    </tr>\n",
       "    <tr>\n",
       "      <th>5658</th>\n",
       "      <td>-118.30</td>\n",
       "      <td>33.74</td>\n",
       "      <td>20.0</td>\n",
       "      <td>2625</td>\n",
       "      <td>673.0</td>\n",
       "      <td>1184.0</td>\n",
       "      <td>606</td>\n",
       "      <td>3.9167</td>\n",
       "      <td>285200</td>\n",
       "      <td>NEAR OCEAN</td>\n",
       "      <td>male</td>\n",
       "    </tr>\n",
       "    <tr>\n",
       "      <th>77</th>\n",
       "      <td>-122.28</td>\n",
       "      <td>37.81</td>\n",
       "      <td>19.0</td>\n",
       "      <td>1207</td>\n",
       "      <td>243.0</td>\n",
       "      <td>721.0</td>\n",
       "      <td>207</td>\n",
       "      <td>1.1111</td>\n",
       "      <td>108300</td>\n",
       "      <td>NEAR BAY</td>\n",
       "      <td>female</td>\n",
       "    </tr>\n",
       "    <tr>\n",
       "      <th>18836</th>\n",
       "      <td>-122.64</td>\n",
       "      <td>41.73</td>\n",
       "      <td>36.0</td>\n",
       "      <td>3319</td>\n",
       "      <td>664.0</td>\n",
       "      <td>1492.0</td>\n",
       "      <td>631</td>\n",
       "      <td>1.8694</td>\n",
       "      <td>71200</td>\n",
       "      <td>INLAND</td>\n",
       "      <td>male</td>\n",
       "    </tr>\n",
       "    <tr>\n",
       "      <th>3835</th>\n",
       "      <td>-118.43</td>\n",
       "      <td>34.19</td>\n",
       "      <td>27.0</td>\n",
       "      <td>3440</td>\n",
       "      <td>739.0</td>\n",
       "      <td>1827.0</td>\n",
       "      <td>712</td>\n",
       "      <td>4.1250</td>\n",
       "      <td>245500</td>\n",
       "      <td>&lt;1H OCEAN</td>\n",
       "      <td>female</td>\n",
       "    </tr>\n",
       "    <tr>\n",
       "      <th>8836</th>\n",
       "      <td>-118.37</td>\n",
       "      <td>34.08</td>\n",
       "      <td>28.0</td>\n",
       "      <td>4376</td>\n",
       "      <td>1202.0</td>\n",
       "      <td>1847.0</td>\n",
       "      <td>1128</td>\n",
       "      <td>2.6713</td>\n",
       "      <td>312500</td>\n",
       "      <td>&lt;1H OCEAN</td>\n",
       "      <td>NaN</td>\n",
       "    </tr>\n",
       "    <tr>\n",
       "      <th>10528</th>\n",
       "      <td>-117.71</td>\n",
       "      <td>33.54</td>\n",
       "      <td>15.0</td>\n",
       "      <td>2460</td>\n",
       "      <td>NaN</td>\n",
       "      <td>962.0</td>\n",
       "      <td>no</td>\n",
       "      <td>7.3878</td>\n",
       "      <td>318300</td>\n",
       "      <td>&lt;1H OCEAN</td>\n",
       "      <td>male</td>\n",
       "    </tr>\n",
       "  </tbody>\n",
       "</table>\n",
       "</div>"
      ],
      "text/plain": [
       "       longitude  latitude  housing_median_age  total_rooms  total_bedrooms  \\\n",
       "13070    -121.31     38.58                10.0         2421           580.0   \n",
       "15649    -122.41     37.79                52.0         2161           544.0   \n",
       "17805    -121.87     37.38                16.0         1050           245.0   \n",
       "12630    -121.50     38.49                29.0         3606           690.0   \n",
       "5100     -118.31     33.97                52.0         1629           277.0   \n",
       "16010    -122.46     37.74                52.0         2180           326.0   \n",
       "17578    -121.94     37.30                26.0         4348           814.0   \n",
       "3146     -118.51     35.16                 7.0         4371           727.0   \n",
       "17516    -121.93     37.33                44.0         2142           358.0   \n",
       "4012     -118.60     34.16                37.0         3441           584.0   \n",
       "16295    -121.23     37.95                36.0          811           168.0   \n",
       "18791    -122.56     40.75                20.0         1182           250.0   \n",
       "5685     -118.23     34.24                31.0         3857           607.0   \n",
       "18691    -121.77     36.96                20.0         4228           816.0   \n",
       "5658     -118.30     33.74                20.0         2625           673.0   \n",
       "77       -122.28     37.81                19.0         1207           243.0   \n",
       "18836    -122.64     41.73                36.0         3319           664.0   \n",
       "3835     -118.43     34.19                27.0         3440           739.0   \n",
       "8836     -118.37     34.08                28.0         4376          1202.0   \n",
       "10528    -117.71     33.54                15.0         2460             NaN   \n",
       "\n",
       "       population households  median_income  median_house_value  \\\n",
       "13070       962.0        497            NaN              112500   \n",
       "15649       904.0        431         3.5066              350000   \n",
       "17805       722.0        228         4.5187              163500   \n",
       "12630      2317.0        696            NaN               78200   \n",
       "5100        819.0        288         3.7250              142600   \n",
       "16010       856.0        326         5.3961              416900   \n",
       "17578      2347.0        810         4.7275              293000   \n",
       "3146       1932.0        654         4.6250              136800   \n",
       "17516       846.0        375         5.4273              421000   \n",
       "4012       1283.0        544         4.1656              313100   \n",
       "16295       514.0        152         2.6250               89200   \n",
       "18791       512.0        210         1.7935               74500   \n",
       "5685       1695.0        572         7.6420              396400   \n",
       "18691      2389.0        844         3.5250              229100   \n",
       "5658       1184.0        606         3.9167              285200   \n",
       "77          721.0        207         1.1111              108300   \n",
       "18836      1492.0        631         1.8694               71200   \n",
       "3835       1827.0        712         4.1250              245500   \n",
       "8836       1847.0       1128         2.6713              312500   \n",
       "10528       962.0         no         7.3878              318300   \n",
       "\n",
       "      ocean_proximity  gender  \n",
       "13070          INLAND    male  \n",
       "15649        NEAR BAY  female  \n",
       "17805       <1H OCEAN  female  \n",
       "12630          INLAND    male  \n",
       "5100        <1H OCEAN    male  \n",
       "16010        NEAR BAY  female  \n",
       "17578       <1H OCEAN    male  \n",
       "3146           INLAND    male  \n",
       "17516       <1H OCEAN    male  \n",
       "4012        <1H OCEAN    male  \n",
       "16295          INLAND  female  \n",
       "18791          INLAND  female  \n",
       "5685        <1H OCEAN  female  \n",
       "18691       <1H OCEAN  female  \n",
       "5658       NEAR OCEAN    male  \n",
       "77           NEAR BAY  female  \n",
       "18836          INLAND    male  \n",
       "3835        <1H OCEAN  female  \n",
       "8836        <1H OCEAN     NaN  \n",
       "10528       <1H OCEAN    male  "
      ]
     },
     "execution_count": 7,
     "metadata": {},
     "output_type": "execute_result"
    }
   ],
   "source": [
    "df.sample(20)"
   ]
  },
  {
   "cell_type": "markdown",
   "id": "b0344e5d",
   "metadata": {},
   "source": [
    "### in the household column , the observation \"no \" indicates a null value , but the libraries won't interpret it so we will convert it to NaN"
   ]
  },
  {
   "cell_type": "code",
   "execution_count": 8,
   "id": "0384353d",
   "metadata": {},
   "outputs": [
    {
     "data": {
      "text/plain": [
       "no      3080\n",
       "282       47\n",
       "375       46\n",
       "380       45\n",
       "306       45\n",
       "        ... \n",
       "1649       1\n",
       "1879       1\n",
       "1050       1\n",
       "1119       1\n",
       "1843       1\n",
       "Name: households, Length: 1703, dtype: int64"
      ]
     },
     "execution_count": 8,
     "metadata": {},
     "output_type": "execute_result"
    }
   ],
   "source": [
    "\n",
    "df['households'].value_counts()"
   ]
  },
  {
   "cell_type": "code",
   "execution_count": 9,
   "id": "f09d7b85",
   "metadata": {},
   "outputs": [
    {
     "data": {
      "text/plain": [
       "282     47\n",
       "375     46\n",
       "380     45\n",
       "306     45\n",
       "239     42\n",
       "        ..\n",
       "1342     1\n",
       "1493     1\n",
       "1808     1\n",
       "1967     1\n",
       "1843     1\n",
       "Name: households, Length: 1702, dtype: int64"
      ]
     },
     "execution_count": 9,
     "metadata": {},
     "output_type": "execute_result"
    }
   ],
   "source": [
    "df['households'] = df['households'].replace('no', pd.NA)\n",
    "df['households'].value_counts()"
   ]
  },
  {
   "cell_type": "code",
   "execution_count": 10,
   "id": "8607f4fb",
   "metadata": {},
   "outputs": [
    {
     "data": {
      "text/plain": [
       "longitude                0\n",
       "latitude                 0\n",
       "housing_median_age     258\n",
       "total_rooms              0\n",
       "total_bedrooms        4882\n",
       "population              44\n",
       "households            4385\n",
       "median_income         2767\n",
       "median_house_value       0\n",
       "ocean_proximity          0\n",
       "gender                4020\n",
       "dtype: int64"
      ]
     },
     "execution_count": 10,
     "metadata": {},
     "output_type": "execute_result"
    }
   ],
   "source": [
    "df.isnull().sum()"
   ]
  },
  {
   "cell_type": "markdown",
   "id": "a01edebd",
   "metadata": {},
   "source": [
    "#### now we have 4385 null values in the column households "
   ]
  },
  {
   "cell_type": "markdown",
   "id": "108fa9ff",
   "metadata": {},
   "source": [
    " ## Converting households colum type into numeric "
   ]
  },
  {
   "cell_type": "code",
   "execution_count": 11,
   "id": "86fc6b9f",
   "metadata": {},
   "outputs": [
    {
     "name": "stdout",
     "output_type": "stream",
     "text": [
      "<class 'pandas.core.frame.DataFrame'>\n",
      "RangeIndex: 20640 entries, 0 to 20639\n",
      "Data columns (total 11 columns):\n",
      " #   Column              Non-Null Count  Dtype  \n",
      "---  ------              --------------  -----  \n",
      " 0   longitude           20640 non-null  float64\n",
      " 1   latitude            20640 non-null  float64\n",
      " 2   housing_median_age  20382 non-null  float64\n",
      " 3   total_rooms         20640 non-null  int64  \n",
      " 4   total_bedrooms      15758 non-null  float64\n",
      " 5   population          20596 non-null  float64\n",
      " 6   households          16255 non-null  float64\n",
      " 7   median_income       17873 non-null  float64\n",
      " 8   median_house_value  20640 non-null  int64  \n",
      " 9   ocean_proximity     20640 non-null  object \n",
      " 10  gender              16620 non-null  object \n",
      "dtypes: float64(7), int64(2), object(2)\n",
      "memory usage: 1.7+ MB\n"
     ]
    }
   ],
   "source": [
    "df['households'] = pd.to_numeric(df['households'], errors='coerce')\n",
    "df.info()"
   ]
  },
  {
   "cell_type": "markdown",
   "id": "c279990d",
   "metadata": {},
   "source": [
    "## Visualizing Null Values"
   ]
  },
  {
   "cell_type": "code",
   "execution_count": 12,
   "id": "a787970a",
   "metadata": {},
   "outputs": [
    {
     "data": {
      "text/plain": [
       "<AxesSubplot:>"
      ]
     },
     "execution_count": 12,
     "metadata": {},
     "output_type": "execute_result"
    },
    {
     "data": {
      "image/png": "[encoded data removed]",
      "text/plain": [
       "<Figure size 640x480 with 2 Axes>"
      ]
     },
     "metadata": {},
     "output_type": "display_data"
    }
   ],
   "source": [
    "sns.heatmap(df.isnull())"
   ]
  },
  {
   "cell_type": "code",
   "execution_count": 13,
   "id": "285fa0c7",
   "metadata": {},
   "outputs": [
    {
     "data": {
      "text/plain": [
       "<AxesSubplot:>"
      ]
     },
     "execution_count": 13,
     "metadata": {},
     "output_type": "execute_result"
    },
    {
     "data": {
      "image/png": "[encoded data removed]",
      "text/plain": [
       "<Figure size 2500x1000 with 2 Axes>"
      ]
     },
     "metadata": {},
     "output_type": "display_data"
    }
   ],
   "source": [
    "import missingno  as msno\n",
    "msno.matrix(df)\n"
   ]
  },
  {
   "cell_type": "markdown",
   "id": "90d89333",
   "metadata": {},
   "source": [
    "# Dealing with Missing values in various ways "
   ]
  },
  {
   "cell_type": "markdown",
   "id": "dc72b1dd",
   "metadata": {},
   "source": [
    "## 1) Deleting \"Dropping\" rows that contain missing values"
   ]
  },
  {
   "cell_type": "markdown",
   "id": "044487ad",
   "metadata": {},
   "source": [
    "#### We will use this method with columns that has a little number of null values , like Population"
   ]
  },
  {
   "cell_type": "code",
   "execution_count": 14,
   "id": "43e58df8",
   "metadata": {},
   "outputs": [],
   "source": [
    "x=df.copy()"
   ]
  },
  {
   "cell_type": "code",
   "execution_count": 15,
   "id": "df423fb5",
   "metadata": {},
   "outputs": [
    {
     "data": {
      "text/plain": [
       "longitude                0\n",
       "latitude                 0\n",
       "housing_median_age     254\n",
       "total_rooms              0\n",
       "total_bedrooms        4875\n",
       "population               0\n",
       "households            4379\n",
       "median_income         2761\n",
       "median_house_value       0\n",
       "ocean_proximity          0\n",
       "gender                4007\n",
       "dtype: int64"
      ]
     },
     "execution_count": 15,
     "metadata": {},
     "output_type": "execute_result"
    }
   ],
   "source": [
    "x.dropna(subset=['population'],inplace=True)\n",
    "x.isnull().sum()"
   ]
  },
  {
   "cell_type": "markdown",
   "id": "873b4580",
   "metadata": {},
   "source": [
    "## 2) Filling missing values with Fillna() using mean , median or mode ."
   ]
  },
  {
   "cell_type": "code",
   "execution_count": 16,
   "id": "18108d0d",
   "metadata": {},
   "outputs": [
    {
     "data": {
      "text/plain": [
       "3.939068595458402"
      ]
     },
     "execution_count": 16,
     "metadata": {},
     "output_type": "execute_result"
    }
   ],
   "source": [
    "x['median_income'].mean()"
   ]
  },
  {
   "cell_type": "code",
   "execution_count": 17,
   "id": "ee759740",
   "metadata": {},
   "outputs": [
    {
     "data": {
      "text/plain": [
       "longitude                0\n",
       "latitude                 0\n",
       "housing_median_age     254\n",
       "total_rooms              0\n",
       "total_bedrooms        4875\n",
       "population               0\n",
       "households            4379\n",
       "median_income            0\n",
       "median_house_value       0\n",
       "ocean_proximity          0\n",
       "gender                4007\n",
       "dtype: int64"
      ]
     },
     "execution_count": 17,
     "metadata": {},
     "output_type": "execute_result"
    }
   ],
   "source": [
    "median_income_median=x['median_income'].median()\n",
    "x['median_income'] = x['median_income'].fillna(median_income_median)\n",
    "x.isnull().sum()"
   ]
  },
  {
   "cell_type": "code",
   "execution_count": 18,
   "id": "baa58a00",
   "metadata": {},
   "outputs": [
    {
     "data": {
      "text/plain": [
       "3.8918049572729774"
      ]
     },
     "execution_count": 18,
     "metadata": {},
     "output_type": "execute_result"
    }
   ],
   "source": [
    "x['median_income'].mean()"
   ]
  },
  {
   "cell_type": "markdown",
   "id": "732cac63",
   "metadata": {},
   "source": [
    "#### the overall mean of this column after filling null values with median is almost equal to the mean before filling"
   ]
  },
  {
   "cell_type": "markdown",
   "id": "f45e3246",
   "metadata": {},
   "source": [
    "## 3) Filling missing values using fFill() , This method fills each missing row with the value of the nearest one above it."
   ]
  },
  {
   "cell_type": "code",
   "execution_count": 19,
   "id": "b831cdb2",
   "metadata": {},
   "outputs": [
    {
     "data": {
      "text/plain": [
       "longitude                0\n",
       "latitude                 0\n",
       "housing_median_age     254\n",
       "total_rooms              0\n",
       "total_bedrooms        4875\n",
       "population               0\n",
       "households            4379\n",
       "median_income            0\n",
       "median_house_value       0\n",
       "ocean_proximity          0\n",
       "gender                4007\n",
       "dtype: int64"
      ]
     },
     "execution_count": 19,
     "metadata": {},
     "output_type": "execute_result"
    }
   ],
   "source": [
    "x.isnull().sum()\n"
   ]
  },
  {
   "cell_type": "code",
   "execution_count": 20,
   "id": "789bd521",
   "metadata": {},
   "outputs": [
    {
     "data": {
      "text/plain": [
       "28.667731786451675"
      ]
     },
     "execution_count": 20,
     "metadata": {},
     "output_type": "execute_result"
    }
   ],
   "source": [
    "x['housing_median_age'].mean()"
   ]
  },
  {
   "cell_type": "code",
   "execution_count": 21,
   "id": "3d527099",
   "metadata": {},
   "outputs": [
    {
     "data": {
      "text/plain": [
       "longitude                0\n",
       "latitude                 0\n",
       "housing_median_age       0\n",
       "total_rooms              0\n",
       "total_bedrooms        4875\n",
       "population               0\n",
       "households            4379\n",
       "median_income            0\n",
       "median_house_value       0\n",
       "ocean_proximity          0\n",
       "gender                4007\n",
       "dtype: int64"
      ]
     },
     "execution_count": 21,
     "metadata": {},
     "output_type": "execute_result"
    }
   ],
   "source": [
    "x['housing_median_age'] = x['housing_median_age'].fillna(method= \"ffill\")\n",
    "x.isnull().sum()"
   ]
  },
  {
   "cell_type": "code",
   "execution_count": 22,
   "id": "66ea9f51",
   "metadata": {},
   "outputs": [
    {
     "data": {
      "text/plain": [
       "28.612983103515244"
      ]
     },
     "execution_count": 22,
     "metadata": {},
     "output_type": "execute_result"
    }
   ],
   "source": [
    "x['housing_median_age'].mean()"
   ]
  },
  {
   "cell_type": "markdown",
   "id": "da738017",
   "metadata": {},
   "source": [
    "#### the mean value of this column hasn't changed very much ."
   ]
  },
  {
   "cell_type": "markdown",
   "id": "0a9f2576",
   "metadata": {},
   "source": [
    "## 4) filling missing values using Mean"
   ]
  },
  {
   "cell_type": "code",
   "execution_count": 23,
   "id": "218d2e65",
   "metadata": {},
   "outputs": [
    {
     "data": {
      "text/plain": [
       "539.6535843775841"
      ]
     },
     "execution_count": 23,
     "metadata": {},
     "output_type": "execute_result"
    }
   ],
   "source": [
    "x['total_bedrooms'].mean()"
   ]
  },
  {
   "cell_type": "code",
   "execution_count": 24,
   "id": "0b3d9c4e",
   "metadata": {},
   "outputs": [
    {
     "data": {
      "text/plain": [
       "longitude                0\n",
       "latitude                 0\n",
       "housing_median_age       0\n",
       "total_rooms              0\n",
       "total_bedrooms           0\n",
       "population               0\n",
       "households            4379\n",
       "median_income            0\n",
       "median_house_value       0\n",
       "ocean_proximity          0\n",
       "gender                4007\n",
       "dtype: int64"
      ]
     },
     "execution_count": 24,
     "metadata": {},
     "output_type": "execute_result"
    }
   ],
   "source": [
    "bedrooms_mean = x['total_bedrooms'].mean()\n",
    "x['total_bedrooms'] = x['total_bedrooms'].fillna(bedrooms_mean)\n",
    "x.isnull().sum()"
   ]
  },
  {
   "cell_type": "code",
   "execution_count": 25,
   "id": "7b6a536f",
   "metadata": {},
   "outputs": [
    {
     "data": {
      "text/plain": [
       "539.6535843776375"
      ]
     },
     "execution_count": 25,
     "metadata": {},
     "output_type": "execute_result"
    }
   ],
   "source": [
    "x['total_bedrooms'].mean()"
   ]
  },
  {
   "cell_type": "markdown",
   "id": "6395f3ce",
   "metadata": {},
   "source": [
    "#### filling total_bedrooms column with mean , gives an overall mean that's almost equal to the mean with the presence of null value"
   ]
  },
  {
   "cell_type": "code",
   "execution_count": 26,
   "id": "b3d0137c",
   "metadata": {},
   "outputs": [
    {
     "name": "stdout",
     "output_type": "stream",
     "text": [
      "<class 'pandas.core.frame.DataFrame'>\n",
      "Int64Index: 20596 entries, 0 to 20639\n",
      "Data columns (total 11 columns):\n",
      " #   Column              Non-Null Count  Dtype  \n",
      "---  ------              --------------  -----  \n",
      " 0   longitude           20596 non-null  float64\n",
      " 1   latitude            20596 non-null  float64\n",
      " 2   housing_median_age  20596 non-null  float64\n",
      " 3   total_rooms         20596 non-null  int64  \n",
      " 4   total_bedrooms      20596 non-null  float64\n",
      " 5   population          20596 non-null  float64\n",
      " 6   households          16217 non-null  float64\n",
      " 7   median_income       20596 non-null  float64\n",
      " 8   median_house_value  20596 non-null  int64  \n",
      " 9   ocean_proximity     20596 non-null  object \n",
      " 10  gender              16589 non-null  object \n",
      "dtypes: float64(7), int64(2), object(2)\n",
      "memory usage: 1.9+ MB\n"
     ]
    }
   ],
   "source": [
    "x.info()"
   ]
  },
  {
   "cell_type": "code",
   "execution_count": 27,
   "id": "6b74ca29",
   "metadata": {},
   "outputs": [
    {
     "data": {
      "text/plain": [
       "longitude                0\n",
       "latitude                 0\n",
       "housing_median_age       0\n",
       "total_rooms              0\n",
       "total_bedrooms           0\n",
       "population               0\n",
       "households            4379\n",
       "median_income            0\n",
       "median_house_value       0\n",
       "ocean_proximity          0\n",
       "gender                4007\n",
       "dtype: int64"
      ]
     },
     "execution_count": 27,
     "metadata": {},
     "output_type": "execute_result"
    }
   ],
   "source": [
    "x.isnull().sum()"
   ]
  },
  {
   "cell_type": "markdown",
   "id": "77a6414c",
   "metadata": {},
   "source": [
    "## 5) Filling missing values using bfill() , This method fills each missing row with the value of the nearest one below it."
   ]
  },
  {
   "cell_type": "code",
   "execution_count": 28,
   "id": "4c019613",
   "metadata": {},
   "outputs": [
    {
     "data": {
      "text/plain": [
       "500.5084170931738"
      ]
     },
     "execution_count": 28,
     "metadata": {},
     "output_type": "execute_result"
    }
   ],
   "source": [
    "x['households'].mean()"
   ]
  },
  {
   "cell_type": "code",
   "execution_count": 29,
   "id": "e9f3d892",
   "metadata": {},
   "outputs": [
    {
     "data": {
      "text/plain": [
       "longitude                0\n",
       "latitude                 0\n",
       "housing_median_age       0\n",
       "total_rooms              0\n",
       "total_bedrooms           0\n",
       "population               0\n",
       "households               0\n",
       "median_income            0\n",
       "median_house_value       0\n",
       "ocean_proximity          0\n",
       "gender                4007\n",
       "dtype: int64"
      ]
     },
     "execution_count": 29,
     "metadata": {},
     "output_type": "execute_result"
    }
   ],
   "source": [
    "x['households'] = x['households'].fillna(method= \"ffill\")\n",
    "x.isnull().sum()"
   ]
  },
  {
   "cell_type": "code",
   "execution_count": 30,
   "id": "b96bd39d",
   "metadata": {},
   "outputs": [
    {
     "data": {
      "text/plain": [
       "469.0691396387648"
      ]
     },
     "execution_count": 30,
     "metadata": {},
     "output_type": "execute_result"
    }
   ],
   "source": [
    "x['households'].mean()"
   ]
  },
  {
   "cell_type": "markdown",
   "id": "4d5cee05",
   "metadata": {},
   "source": [
    "## 6) Filling missing values randomly from a list of given values"
   ]
  },
  {
   "cell_type": "code",
   "execution_count": 31,
   "id": "800dd388",
   "metadata": {},
   "outputs": [
    {
     "name": "stderr",
     "output_type": "stream",
     "text": [
      "C:\\Users\\Anwar\\anaconda3\\lib\\site-packages\\seaborn\\_decorators.py:36: FutureWarning: Pass the following variable as a keyword arg: x. From version 0.12, the only valid positional argument will be `data`, and passing other arguments without an explicit keyword will result in an error or misinterpretation.\n",
      "  warnings.warn(\n"
     ]
    },
    {
     "data": {
      "text/plain": [
       "<AxesSubplot:xlabel='gender', ylabel='count'>"
      ]
     },
     "execution_count": 31,
     "metadata": {},
     "output_type": "execute_result"
    },
    {
     "data": {
      "image/png": "[encoded data removed]",
      "text/plain": [
       "<Figure size 640x480 with 1 Axes>"
      ]
     },
     "metadata": {},
     "output_type": "display_data"
    }
   ],
   "source": [
    "sns.countplot(x['gender'])"
   ]
  },
  {
   "cell_type": "code",
   "execution_count": 32,
   "id": "95d575eb",
   "metadata": {},
   "outputs": [],
   "source": [
    "filling_list = ['female' , 'male']\n",
    "x['gender'] = x['gender'].fillna(pd.Series(np.random.choice(filling_list , size = len(df.index))))"
   ]
  },
  {
   "cell_type": "code",
   "execution_count": 33,
   "id": "436537b5",
   "metadata": {},
   "outputs": [
    {
     "data": {
      "text/plain": [
       "longitude             0\n",
       "latitude              0\n",
       "housing_median_age    0\n",
       "total_rooms           0\n",
       "total_bedrooms        0\n",
       "population            0\n",
       "households            0\n",
       "median_income         0\n",
       "median_house_value    0\n",
       "ocean_proximity       0\n",
       "gender                0\n",
       "dtype: int64"
      ]
     },
     "execution_count": 33,
     "metadata": {},
     "output_type": "execute_result"
    }
   ],
   "source": [
    "x.isnull().sum()"
   ]
  },
  {
   "cell_type": "code",
   "execution_count": 34,
   "id": "77b38be3",
   "metadata": {},
   "outputs": [
    {
     "name": "stderr",
     "output_type": "stream",
     "text": [
      "C:\\Users\\Anwar\\anaconda3\\lib\\site-packages\\seaborn\\_decorators.py:36: FutureWarning: Pass the following variable as a keyword arg: x. From version 0.12, the only valid positional argument will be `data`, and passing other arguments without an explicit keyword will result in an error or misinterpretation.\n",
      "  warnings.warn(\n"
     ]
    },
    {
     "data": {
      "text/plain": [
       "<AxesSubplot:xlabel='gender', ylabel='count'>"
      ]
     },
     "execution_count": 34,
     "metadata": {},
     "output_type": "execute_result"
    },
    {
     "data": {
      "image/png": "[encoded data removed]",
      "text/plain": [
       "<Figure size 640x480 with 1 Axes>"
      ]
     },
     "metadata": {},
     "output_type": "display_data"
    }
   ],
   "source": [
    "sns.countplot(x['gender'])"
   ]
  },
  {
   "cell_type": "markdown",
   "id": "cb62b6d6",
   "metadata": {},
   "source": [
    "## 7) Using interpolate to deal with missing values"
   ]
  },
  {
   "cell_type": "code",
   "execution_count": 35,
   "id": "bb4fb8a4",
   "metadata": {},
   "outputs": [
    {
     "data": {
      "text/plain": [
       "longitude                0\n",
       "latitude                 0\n",
       "housing_median_age     258\n",
       "total_rooms              0\n",
       "total_bedrooms        4882\n",
       "population              44\n",
       "households            4385\n",
       "median_income         2767\n",
       "median_house_value       0\n",
       "ocean_proximity          0\n",
       "gender                4020\n",
       "dtype: int64"
      ]
     },
     "execution_count": 35,
     "metadata": {},
     "output_type": "execute_result"
    }
   ],
   "source": [
    "z=df.copy()\n",
    "z.isnull().sum()"
   ]
  },
  {
   "cell_type": "code",
   "execution_count": 36,
   "id": "1a8c2fc0",
   "metadata": {},
   "outputs": [
    {
     "data": {
      "text/plain": [
       "3.9394028646562207"
      ]
     },
     "execution_count": 36,
     "metadata": {},
     "output_type": "execute_result"
    }
   ],
   "source": [
    "z['median_income'].mean()"
   ]
  },
  {
   "cell_type": "code",
   "execution_count": 37,
   "id": "53302619",
   "metadata": {},
   "outputs": [],
   "source": [
    "z['median_income'] = z['median_income'].interpolate()"
   ]
  },
  {
   "cell_type": "code",
   "execution_count": 38,
   "id": "8e107298",
   "metadata": {},
   "outputs": [
    {
     "data": {
      "text/plain": [
       "3.6979133599806597"
      ]
     },
     "execution_count": 38,
     "metadata": {},
     "output_type": "execute_result"
    }
   ],
   "source": [
    "z['median_income'].mean()"
   ]
  },
  {
   "cell_type": "markdown",
   "id": "ddfd3581",
   "metadata": {},
   "source": [
    "### 8) Replacing the null values with the mode\n"
   ]
  },
  {
   "cell_type": "code",
   "execution_count": 39,
   "id": "49fc15f1",
   "metadata": {},
   "outputs": [
    {
     "data": {
      "text/plain": [
       "longitude                0\n",
       "latitude                 0\n",
       "housing_median_age     258\n",
       "total_rooms              0\n",
       "total_bedrooms        4882\n",
       "population              44\n",
       "households            4385\n",
       "median_income            0\n",
       "median_house_value       0\n",
       "ocean_proximity          0\n",
       "gender                4020\n",
       "dtype: int64"
      ]
     },
     "execution_count": 39,
     "metadata": {},
     "output_type": "execute_result"
    }
   ],
   "source": [
    "z.isnull().sum()"
   ]
  },
  {
   "cell_type": "code",
   "execution_count": 40,
   "id": "7b2307a6",
   "metadata": {},
   "outputs": [
    {
     "data": {
      "text/plain": [
       "28.676282994799333"
      ]
     },
     "execution_count": 40,
     "metadata": {},
     "output_type": "execute_result"
    }
   ],
   "source": [
    "z['housing_median_age'].mean()"
   ]
  },
  {
   "cell_type": "code",
   "execution_count": 41,
   "id": "059a9c39",
   "metadata": {},
   "outputs": [],
   "source": [
    "z['housing_median_age'].replace([np.nan], z['housing_median_age'].mode(), inplace=True)\n"
   ]
  },
  {
   "cell_type": "code",
   "execution_count": 42,
   "id": "afec39c5",
   "metadata": {},
   "outputs": [
    {
     "data": {
      "text/plain": [
       "28.967829457364342"
      ]
     },
     "execution_count": 42,
     "metadata": {},
     "output_type": "execute_result"
    }
   ],
   "source": [
    "z['housing_median_age'].mean()"
   ]
  },
  {
   "cell_type": "code",
   "execution_count": 43,
   "id": "3021d932",
   "metadata": {},
   "outputs": [
    {
     "data": {
      "text/plain": [
       "longitude                0\n",
       "latitude                 0\n",
       "housing_median_age       0\n",
       "total_rooms              0\n",
       "total_bedrooms        4882\n",
       "population              44\n",
       "households            4385\n",
       "median_income            0\n",
       "median_house_value       0\n",
       "ocean_proximity          0\n",
       "gender                4020\n",
       "dtype: int64"
      ]
     },
     "execution_count": 43,
     "metadata": {},
     "output_type": "execute_result"
    }
   ],
   "source": [
    "z.isnull().sum()"
   ]
  },
  {
   "cell_type": "markdown",
   "id": "fa66bfd9",
   "metadata": {},
   "source": [
    "## We can fill the null values in the households column randomly from a given list of the top most 4 occurances"
   ]
  },
  {
   "cell_type": "code",
   "execution_count": 44,
   "id": "ee3d6908",
   "metadata": {},
   "outputs": [
    {
     "data": {
      "text/plain": [
       "longitude                0\n",
       "latitude                 0\n",
       "housing_median_age     258\n",
       "total_rooms              0\n",
       "total_bedrooms        4882\n",
       "population              44\n",
       "households            4385\n",
       "median_income         2767\n",
       "median_house_value       0\n",
       "ocean_proximity          0\n",
       "gender                4020\n",
       "dtype: int64"
      ]
     },
     "execution_count": 44,
     "metadata": {},
     "output_type": "execute_result"
    }
   ],
   "source": [
    "house=df.copy()\n",
    "house.isnull().sum()"
   ]
  },
  {
   "cell_type": "code",
   "execution_count": 45,
   "id": "f939d94e",
   "metadata": {},
   "outputs": [],
   "source": [
    "filling_list = [282.0,375.0,380.0,239.0]\n",
    "house['households'] = house['households'].fillna(pd.Series(np.random.choice(filling_list , size = len(df.index))))"
   ]
  },
  {
   "cell_type": "code",
   "execution_count": 46,
   "id": "d988109f",
   "metadata": {},
   "outputs": [
    {
     "data": {
      "text/plain": [
       "longitude                0\n",
       "latitude                 0\n",
       "housing_median_age     258\n",
       "total_rooms              0\n",
       "total_bedrooms        4882\n",
       "population              44\n",
       "households               0\n",
       "median_income         2767\n",
       "median_house_value       0\n",
       "ocean_proximity          0\n",
       "gender                4020\n",
       "dtype: int64"
      ]
     },
     "execution_count": 46,
     "metadata": {},
     "output_type": "execute_result"
    }
   ],
   "source": [
    "house.isnull().sum()"
   ]
  },
  {
   "cell_type": "markdown",
   "id": "aeaacf82",
   "metadata": {},
   "source": [
    "##  9) Random Sample Imputation  "
   ]
  },
  {
   "cell_type": "markdown",
   "id": "ffc120cc",
   "metadata": {},
   "source": [
    "## 10) Multiple Imputation"
   ]
  },
  {
   "cell_type": "code",
   "execution_count": 47,
   "id": "d78e36f7",
   "metadata": {},
   "outputs": [
    {
     "data": {
      "text/plain": [
       "<AxesSubplot:>"
      ]
     },
     "execution_count": 47,
     "metadata": {},
     "output_type": "execute_result"
    },
    {
     "data": {
      "image/png": "[encoded data removed]",
      "text/plain": [
       "<Figure size 640x480 with 2 Axes>"
      ]
     },
     "metadata": {},
     "output_type": "display_data"
    }
   ],
   "source": [
    "sns.heatmap( df.isnull())\n"
   ]
  },
  {
   "cell_type": "markdown",
   "id": "428b5efe",
   "metadata": {},
   "source": [
    "## Filling with a dictonairy"
   ]
  },
  {
   "cell_type": "code",
   "execution_count": 48,
   "id": "eff6123d",
   "metadata": {},
   "outputs": [
    {
     "data": {
      "text/plain": [
       "longitude                0\n",
       "latitude                 0\n",
       "housing_median_age     258\n",
       "total_rooms              0\n",
       "total_bedrooms        4882\n",
       "population              44\n",
       "households            4385\n",
       "median_income         2767\n",
       "median_house_value       0\n",
       "ocean_proximity          0\n",
       "gender                4020\n",
       "dtype: int64"
      ]
     },
     "execution_count": 48,
     "metadata": {},
     "output_type": "execute_result"
    }
   ],
   "source": [
    "x= df.copy()\n",
    "x.isnull().sum()"
   ]
  },
  {
   "cell_type": "code",
   "execution_count": 49,
   "id": "61576bc9",
   "metadata": {},
   "outputs": [
    {
     "data": {
      "text/plain": [
       "{'housing_median_age': 28.676282994799333, 'total_bedrooms': 435.0}"
      ]
     },
     "execution_count": 49,
     "metadata": {},
     "output_type": "execute_result"
    }
   ],
   "source": [
    "dict_fill={\"housing_median_age\":x['housing_median_age'].mean(),\n",
    "          \"total_bedrooms\":x['total_bedrooms'].median()}\n",
    "dict_fill"
   ]
  },
  {
   "cell_type": "code",
   "execution_count": 50,
   "id": "21188397",
   "metadata": {},
   "outputs": [],
   "source": [
    "x.fillna(dict_fill,inplace=True)"
   ]
  },
  {
   "cell_type": "code",
   "execution_count": 51,
   "id": "458c98dd",
   "metadata": {},
   "outputs": [
    {
     "data": {
      "text/plain": [
       "longitude                0\n",
       "latitude                 0\n",
       "housing_median_age       0\n",
       "total_rooms              0\n",
       "total_bedrooms           0\n",
       "population              44\n",
       "households            4385\n",
       "median_income         2767\n",
       "median_house_value       0\n",
       "ocean_proximity          0\n",
       "gender                4020\n",
       "dtype: int64"
      ]
     },
     "execution_count": 51,
     "metadata": {},
     "output_type": "execute_result"
    }
   ],
   "source": [
    "x.isnull().sum()"
   ]
  },
  {
   "cell_type": "markdown",
   "id": "f1d5c7b2",
   "metadata": {},
   "source": [
    "### Using Fillng List for total bedrooms"
   ]
  },
  {
   "cell_type": "code",
   "execution_count": 52,
   "id": "49b4f88d",
   "metadata": {},
   "outputs": [
    {
     "name": "stderr",
     "output_type": "stream",
     "text": [
      "C:\\Users\\Anwar\\anaconda3\\lib\\site-packages\\seaborn\\distributions.py:2619: FutureWarning: `distplot` is a deprecated function and will be removed in a future version. Please adapt your code to use either `displot` (a figure-level function with similar flexibility) or `histplot` (an axes-level function for histograms).\n",
      "  warnings.warn(msg, FutureWarning)\n"
     ]
    },
    {
     "data": {
      "text/plain": [
       "<AxesSubplot:xlabel='total_bedrooms', ylabel='Density'>"
      ]
     },
     "execution_count": 52,
     "metadata": {},
     "output_type": "execute_result"
    },
    {
     "data": {
      "image/png": "[encoded data removed]",
      "text/plain": [
       "<Figure size 640x480 with 1 Axes>"
      ]
     },
     "metadata": {},
     "output_type": "display_data"
    }
   ],
   "source": [
    "sns.distplot(x['total_bedrooms'])\n"
   ]
  },
  {
   "cell_type": "code",
   "execution_count": 53,
   "id": "9537bfcb",
   "metadata": {},
   "outputs": [],
   "source": [
    "x=df.copy()\n",
    "fill_list = x['total_bedrooms'].dropna()## because the series keeps Na so in this we delete it\n",
    "x['total_bedrooms'] = x['total_bedrooms'].fillna(pd.Series(np.random.choice(fill_list , size = len(x.index))))"
   ]
  },
  {
   "cell_type": "code",
   "execution_count": 54,
   "id": "e567ebf7",
   "metadata": {},
   "outputs": [
    {
     "name": "stderr",
     "output_type": "stream",
     "text": [
      "C:\\Users\\Anwar\\anaconda3\\lib\\site-packages\\seaborn\\distributions.py:2619: FutureWarning: `distplot` is a deprecated function and will be removed in a future version. Please adapt your code to use either `displot` (a figure-level function with similar flexibility) or `histplot` (an axes-level function for histograms).\n",
      "  warnings.warn(msg, FutureWarning)\n"
     ]
    },
    {
     "data": {
      "text/plain": [
       "<AxesSubplot:xlabel='total_bedrooms', ylabel='Density'>"
      ]
     },
     "execution_count": 54,
     "metadata": {},
     "output_type": "execute_result"
    },
    {
     "data": {
      "image/png": "[encoded data removed]",
      "text/plain": [
       "<Figure size 640x480 with 1 Axes>"
      ]
     },
     "metadata": {},
     "output_type": "display_data"
    }
   ],
   "source": [
    "sns.distplot(x['total_bedrooms'])\n"
   ]
  },
  {
   "cell_type": "markdown",
   "id": "fec2d883",
   "metadata": {},
   "source": [
    "### it gives almost the same distribution"
   ]
  },
  {
   "cell_type": "markdown",
   "id": "ae414fcb",
   "metadata": {},
   "source": [
    "# \n",
    "ـــــــــــــــــــــــــــــــــــــــــــــــــــــــــــــــــــــــــــــــــــــــــــــــــــــــــــــــــــــــــــــــــــــــــــــــــــــــــــــــــــــــــــــــــــــــــــــــــــــــــــــــــــــــــــــــــــــــــــــــــــــــــــــــــــ"
   ]
  },
  {
   "cell_type": "markdown",
   "id": "6883f46e",
   "metadata": {},
   "source": [
    "# Conclusion\n",
    "#### Missing data is a problem everyone faces while dealing with real-life data. It can impact the quality and accuracy of our results. Understanding the different types of missing data values and their potential impact on the analysis is crucial for researchers to select an appropriate method for handling the missing data. Each method has its advantages and disadvantages and is appropriate for different types of missing data values, we discussed in this notebook some techniques for dealing with missing values such as dropping them , filling missing values with mode , mean or median , using methods like bfill and ffill , using interpolate , there are some other techniques like Random Sample Imputation and Multile Imputation , the choice of Technique depends on the nature of your dataset , why the values are missing and the percentage of missing values , there is no straightforward solution for this problem .\n"
   ]
  }
 ],
 "metadata": {
  "kernelspec": {
   "display_name": "Python 3 (ipykernel)",
   "language": "python",
   "name": "python3"
  },
  "language_info": {
   "codemirror_mode": {
    "name": "ipython",
    "version": 3
   },
   "file_extension": ".py",
   "mimetype": "text/x-python",
   "name": "python",
   "nbconvert_exporter": "python",
   "pygments_lexer": "ipython3",
   "version": "3.9.13"
  }
 },
 "nbformat": 4,
 "nbformat_minor": 5
}
